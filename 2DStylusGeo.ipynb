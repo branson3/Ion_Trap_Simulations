{
 "cells": [
  {
   "cell_type": "code",
   "execution_count": 2,
   "metadata": {},
   "outputs": [],
   "source": [
    "import numpy as np\n",
    "from matplotlib import pyplot as plt\n",
    "import time\n",
    "import math\n",
    "from numba import njit,prange"
   ]
  },
  {
   "cell_type": "code",
   "execution_count": 76,
   "metadata": {},
   "outputs": [],
   "source": [
    "@njit(boundscheck=True)\n",
    "def Strap(Vrf, Vdc):\n",
    "    \n",
    "    #Define the parameters that make up your trap\n",
    "    t =  0.097; # the very top of the mirror\n",
    "    b = -0.008; # The bottom of the mirror block\n",
    "    f = -0.003; # from focus to bottom of parabola\n",
    "    bottomHole = 0.00076; # radius of the hole at the bottom of the mirror\n",
    "    COuterR = 0.0001025; # The outer radius of the central grounded electrode\n",
    "    CInnerR = 0.00005; # The inner radius of the central grounded electrode\n",
    "    CHeight = 0.0009; # The half height of the central grounded electrode\n",
    "    RFOuterR = 0.000455;#0.000675; # The outer radius of the RF electrode\n",
    "    RFInnerR = 0.0003;#0.000375; # The inner radius of the RF electrode\n",
    "    RFHeight = 0.001;#0.00085; # The half height of the RF electrode\n",
    "       \n",
    "    \n",
    "    # Picking the size of our world\n",
    "    gmax = 0.052 #physical size of the space simulated (meters)\n",
    "    points = 4001 # number of points that are being simulated\n",
    "    steps = points - 1 # just the number of points minus one\n",
    "    x = np.linspace(-0.5, 0.5, points) #chosing how much space in the x, y, z direction, where it begins and where it ends\n",
    "    y = np.linspace(-0.01, 0.1, points)\n",
    "    size = len(x)\n",
    "    xmid = int((size)/2)\n",
    "    ymid = int((size)/2)\n",
    "    lattice_points=np.zeros((size**2,2))\n",
    "    marker=0\n",
    "    \n",
    "    V0 = np.zeros((size, size)) #initialize the matrix for electric potential\n",
    "    V0dc= np.zeros((size, size))\n",
    "    V0_temp=np.zeros((size, size))\n",
    "    V0dc_temp=np.zeros((size, size))\n",
    "    cords=np.zeros((size, size, 2))\n",
    "    iterations = 800 #number of iterations\n",
    "    CenterV = np.zeros((iterations,1)) #keep track of the potential value at the center at each iteration\n",
    "    \n",
    "     # Now define the boundry conditions\n",
    "    for i in range(len(x)):\n",
    "        for j in range(len(y)):\n",
    "            cords[i, j] = [i, j]\n",
    "                \n",
    "                 #The ellipsoidal mirror part 1, the laser slit and up\n",
    "            #if ((y[j] > a* np.sqrt(1 - (x[i]**2/c**2))) and (y[j] < t) and (y[j] > slope*x[i] + u) and (y[j] > s)):\n",
    "            #    V0[i, j] = Vrf[0]\n",
    "            #    V0dc[i, j] = Vdc[0]\n",
    "            #elif ((y[j] < -a* np.sqrt(1 - (x[i]**2/c**2))) and (y[j] < t) and (y[j] > slope*x[i] + u) and (y[j] > s)): #the bottom half of the ellipsoid\n",
    "            #    V0[i, j] = Vrf[0]\n",
    "            #    V0dc[i, j] = Vdc[0]\n",
    "            #elif ((x[i] > Rmin) and (x[i] < Rmin + m) and (y[j] < t) and (y[j] > slope*x[i] + u) and (y[j] > s)): #other part of mirror going around the top of ellipsoid\n",
    "            #    V0[i, j] = Vrf[0]\n",
    "            #    V0dc[i, j] = Vdc[0]\n",
    "            #elif ((x[i] < -Rmin) and (x[i] > -Rmin - m) and (y[j] < t) and (y[j] > slope*x[i] + u) and (y[j] > s)):#other part of mirror going around the bottom of ellipsoid\n",
    "            #    V0[i, j] = Vrf[0]\n",
    "            #    V0dc[i, j] = Vdc[0]\n",
    "               \n",
    "                    \n",
    "                #The ellipsoidal mirror part 2, the laser slit and down\n",
    "            #elif ((y[j] > a* np.sqrt(1 - (x[i]**2/c**2))) and (y[j] < slope*x[i] + d) and (y[j] > s) and (y[j] < t)): #the top half of the ellipsoid\n",
    "            #    V0[i, j] = Vrf[0]\n",
    "            #    V0dc[i, j] = Vdc[0]\n",
    "            #elif ((y[j] < -a* np.sqrt(1 - (x[i]**2/c**2))) and (y[j] < slope*x[i] + d) and (y[j] > s) and (y[j] < t)): #the bottom half of the ellipsoid\n",
    "            #    V0[i, j] = Vrf[0]\n",
    "            #    V0dc[i, j] = Vdc[0]\n",
    "            #elif ((x[i] > Rmin) and (x[i] < Rmin + m) and (y[j] < slope*x[i] + d) and (y[j] > s) and (y[j] < t)): #other part of mirror going around the top of ellipsoid\n",
    "            #    V0[i, j] = Vrf[0]\n",
    "            #    V0dc[i, j] = Vdc[0]\n",
    "            #elif ((x[i] < -Rmin) and (x[i] > -Rmin - m) and (y[j] < slope*x[i] + d) and (y[j] > s) and (y[j] < t)):#other part of mirror going around the bottom of ellipsoid\n",
    "            #    V0[i, j] = Vrf[0]\n",
    "            #    V0dc[i, j] = Vdc[0]\n",
    "                 \n",
    "            # Bottom of the ellipsoidal mirror part 1, the laser slit and up\n",
    "            #elif ((x[i] > Rhole) and (x[i] < Rmin + m) and (y[j] <= s) and (y[j] > b)):\n",
    "            #    V0[i, j] = Vrf[0]\n",
    "            #    V0dc[i, j] = Vdc[0]\n",
    "            #elif ((x[i] < -Rhole) and (x[i] > -Rmin - m) and (y[j] < slope*x[i] + d) and (y[j] <= s) and (y[j] > b)): # and (z[k] > slope*x[i] + u)):\n",
    "            #    V0[i, j] = Vrf[0]\n",
    "            #    V0dc[i, j] = Vdc[0]\n",
    "            #elif ((x[i] > -Rmin - m) and (y[j] > slope*x[i] + u) and (y[j] <= s) and (y[j] > b)):\n",
    "            #    V0[i, j] = Vrf[0]\n",
    "            #    V0dc[i, j] = Vdc[0]\n",
    "            \n",
    "            #The paraboloid\n",
    "            if ((x[i] > np.sqrt(12* (y[j]))) and (x[i] > bottomHole) and (y[j] > b) and (y[j] < t)):\n",
    "                V0[i, j] = Vrf[0]\n",
    "                V0dc[i, j] = Vdc[0]\n",
    "            elif ((x[i] < -np.sqrt(12* (y[j]))) and (x[i] < -bottomHole) and (y[j] > b) and (y[j] < t)):\n",
    "                V0[i, j] = Vrf[0]\n",
    "                V0dc[i, j] = Vdc[0]\n",
    "                    \n",
    "            # The RF cylinder\n",
    "            elif ((x[i] < RFOuterR) and (x[i] > RFInnerR) and (y[j] > -RFHeight + f) and (y[j] < RFHeight + f)):\n",
    "                V0[i, j] = Vrf[1]\n",
    "                V0dc[i, j] = Vdc[1]\n",
    "            elif ((x[i] > -RFOuterR) and (x[i] < -RFInnerR) and (y[j] > -RFHeight + f) and (y[j] < RFHeight + f)):\n",
    "                V0[i, j] = Vrf[1]\n",
    "                V0dc[i, j] = Vdc[1]\n",
    "                \n",
    "            # The central cylinderc\n",
    "            elif ((x[i] < COuterR) and (x[i] > CInnerR) and (y[j] > -CHeight + f) and (y[j] < CHeight + f)):\n",
    "                V0[i, j] = Vrf[2]\n",
    "                V0dc[i, j] = Vdc[2]\n",
    "            elif ((x[i] > -COuterR) and (x[i] < -CInnerR) and (y[j] > -CHeight + f) and (y[j] < CHeight + f)):\n",
    "                V0[i, j] = Vrf[2]\n",
    "                V0dc[i, j] = Vdc[2]           \n",
    "                \n",
    "            else:\n",
    "                V0[i, j] = 0\n",
    "                V0dc[i, j] = 0\n",
    "                lattice_points[marker]=[i,j]\n",
    "                marker+=1\n",
    "                    \n",
    "                    \n",
    "    lattice_points=lattice_points[0:marker] # what does this mean?    \n",
    "    \n",
    "    V0_temp=V0    \n",
    "    V0dc_temp=V0dc\n",
    "    \n",
    "    \n",
    "    return V0,V0dc,CenterV,lattice_points,cords"
   ]
  },
  {
   "cell_type": "code",
   "execution_count": 77,
   "metadata": {},
   "outputs": [
    {
     "name": "stdout",
     "output_type": "stream",
     "text": [
      "The time elapsed is  4.865637540817261 seconds\n"
     ]
    }
   ],
   "source": [
    "#Voltages used in the simulation\n",
    "RF=np.array([1, 2, 3]) #corresponding to each portion of the mirror geometry\n",
    "DC=np.array([1, 2, 3])\n",
    "\n",
    "start=time.time() # Records the time started.\n",
    "\n",
    "A=Strap(RF,DC) # Runs the simulation\n",
    "\n",
    "print(\"The time elapsed is \",time.time()-start, \"seconds\")"
   ]
  },
  {
   "cell_type": "code",
   "execution_count": 78,
   "metadata": {},
   "outputs": [
    {
     "data": {
      "image/png": "[encoded data removed]",
      "text/plain": [
       "<Figure size 432x288 with 2 Axes>"
      ]
     },
     "metadata": {
      "needs_background": "light"
     },
     "output_type": "display_data"
    }
   ],
   "source": [
    "R= plt.imshow(A[1][:,:], cmap=plt.cm.get_cmap('viridis', 10))\n",
    "plt.colorbar()\n",
    "#plt.clim(0,1)\n",
    "plt.axis([10, 700, 1500, 2500])\n",
    "plt.show()"
   ]
  },
  {
   "cell_type": "code",
   "execution_count": 249,
   "metadata": {},
   "outputs": [
    {
     "data": {
      "text/plain": [
       "[<matplotlib.lines.Line2D at 0x2507af37f88>]"
      ]
     },
     "execution_count": 249,
     "metadata": {},
     "output_type": "execute_result"
    },
    {
     "data": {
      "image/png": "[encoded data removed]",
      "text/plain": [
       "<Figure size 432x288 with 1 Axes>"
      ]
     },
     "metadata": {
      "needs_background": "light"
     },
     "output_type": "display_data"
    }
   ],
   "source": [
    "x=np.linspace(-10,10,100)\n",
    "plt.plot(x, x**2/12)"
   ]
  },
  {
   "cell_type": "code",
   "execution_count": null,
   "metadata": {},
   "outputs": [],
   "source": []
  }
 ],
 "metadata": {
  "kernelspec": {
   "display_name": "Python 3",
   "language": "python",
   "name": "python3"
  },
  "language_info": {
   "codemirror_mode": {
    "name": "ipython",
    "version": 3
   },
   "file_extension": ".py",
   "mimetype": "text/x-python",
   "name": "python",
   "nbconvert_exporter": "python",
   "pygments_lexer": "ipython3",
   "version": "3.7.6"
  }
 },
 "nbformat": 4,
 "nbformat_minor": 4
}
