{
 "cells": [
  {
   "cell_type": "code",
   "execution_count": 1,
   "metadata": {},
   "outputs": [],
   "source": [
    "import numpy as np\n",
    "import math\n",
    "from matplotlib import pyplot as plt\n",
    "import time\n",
    "from numba import njit,prange"
   ]
  },
  {
   "cell_type": "code",
   "execution_count": 15,
   "metadata": {},
   "outputs": [],
   "source": [
    "@njit(boundscheck=True)\n",
    "def Strap(Vrf, Vdc):\n",
    "    \n",
    "    #Define the parameters that make up your trap\n",
    "    eps = 0.97413; #roughly the eccentricity\n",
    "    f = 1; #flattening\n",
    "    a = 0.05; #semi-minor axis\n",
    "    c = 0.226*a; #distance from center to pole, semi major #0.293 is the exact like his photo, but doesn't give as good of a trap\n",
    "    Rmin = 0.0113; #radius of the waist of the ellipsoid\n",
    "    m = 0.005; #additional mirror thickness horizontal\n",
    "    t =  0.03; # the very top of the mirror\n",
    "    s = -0.0495;#-0.025; # the bottom of the grounded part/the top of the RF part\n",
    "    u = -0.046965; # where the top of the laser opening is\n",
    "    d = -0.048465; # where the bottom of the laser opening is\n",
    "    b = -0.0509; # The bottom of the mirror block\n",
    "    Hneedle = -0.0009; #height of needle inside trap up until the beginning of the needle tip\n",
    "    Rneedle = 0.00023; #radius of needle\n",
    "    HneedleTip = 0.0024; # height of needle tip from needle body\n",
    "    RneedleTip = 0.0001; # The ball on top of the needle\n",
    "    Bneedle = b; #where the needle begins\n",
    "    Rhole = 0.0013; #radius of the hole\n",
    "    Hoffset = -0.0472; #offset of the hole in the x direction\n",
    "    COuterR = 0.0005; # The outer radius of the central grounded electrode\n",
    "    CInnerR = 0.0002; # The inner radius of the central grounded electrode\n",
    "    CHeight = 0.0009; # The half height of the central grounded electrode\n",
    "    RFOuterR = 0.001; # The outer radius of the RF electrode\n",
    "    RFInnerR = 0.0007; # The inner radius of the RF electrode\n",
    "    RFHeight = 0.00085; # The half height of the RF electrode\n",
    "\n",
    "     \n",
    "    \n",
    "    #Properties of our grid\n",
    "    gmax = 0.055 #physical size of the space simulated (meters)\n",
    "    points = 401 # number of points that are being simulated\n",
    "    steps = points - 1 # just the number of points minus one\n",
    "    x = np.linspace(-gmax, gmax, points) #chosing how much space in the x, y, z direction, where it begins and where it ends\n",
    "    y = np.linspace(-gmax, gmax, points)\n",
    "    z = np.linspace(-gmax, gmax, points)\n",
    "    size = len(x) # telling it how to organize these spaces\n",
    "    sizeZ = len(z)\n",
    "    xmid = int((size)/2)\n",
    "    ymid = int((size)/2)\n",
    "    zmid = int((sizeZ)/2) \n",
    "    lattice_points=np.zeros((size**3,3))\n",
    "    marker=0 #What do these mean?\n",
    "    \n",
    "    V0 = np.zeros((size, size, size)) #initialize the matrix for electric potential\n",
    "    V0dc= np.zeros((size, size, size))\n",
    "    V0_temp=np.zeros((size, size, size))\n",
    "    V0dc_temp=np.zeros((size, size, size))\n",
    "    cords=np.zeros((size, size, size, 3))\n",
    "    iterations = 400 #number of iterations\n",
    "    CenterV = np.zeros((iterations,1)) #keep track of the potential value at the center at each iteration\n",
    "    \n",
    "    # Now define the boundry conditions\n",
    "    for i in range(len(x)):\n",
    "        for j in range(len(y)):\n",
    "            for k in range(len(z)):\n",
    "                cords[i, j, k] = [i, j, k]\n",
    "                \n",
    "                 #The ellipsoidal mirror part 1, the a of the astc(all students take calculus)\n",
    "                if ((z[k] > (a/c)* np.sqrt(c**2 - x[i]**2 -y[j]**2)) and (z[k] < t) and (z[k] > b) and (x[i] > 0) and (y[j] > 0)):# and (x[i] > 0) and (x[i] < Rmin + m) and (y[j] > 0) and (y[j] < Rmin + m)): #the top half of the ellipsoid\n",
    "                    V0[i, j, k] = Vrf[0]\n",
    "                    V0dc[i, j, k] = Vdc[0]\n",
    "                elif ((z[k] < -(a/c)* np.sqrt(c**2 - x[i]**2 -y[j]**2)) and (z[k] < t) and (z[k] > b) and (x[i] > 0) and (y[j] > 0)):# and (x[i] > 0) and (x[i] < Rmin + m) and (y[j] > 0) and (y[j] < Rmin + m)): #the top half of the ellipsoid\n",
    "                    V0[i, j, k] = Vrf[0]\n",
    "                    V0dc[i, j, k] = Vdc[0]\n",
    "                elif ((y[j] > np.sqrt(Rmin**2 - x[i]**2)) and (y[j] < Rmin + m) and (z[k] < t) and (z[k] > b) and (x[i] > 0) and (y[j] > 0)): #other part of mirror going around the top of ellipsoid\n",
    "                    V0[i, j, k] = Vrf[0]\n",
    "                    V0dc[i, j, k] = Vdc[0]\n",
    "                elif ((y[j] < -np.sqrt(Rmin**2 - x[i]**2)) and (y[j] > -Rmin - m) and (z[k] < t) and (z[k] > b) and (x[i] > 0) and (y[j] > 0)):#other part of mirror going around the bottom of ellipsoid\n",
    "                    V0[i, j, k] = Vrf[0]\n",
    "                    V0dc[i, j, k] = Vdc[0]\n",
    "                elif ((x[i] < Rmin + m) and (x[i] > Rmin) and (y[j] < Rmin + m) and (y[j] > -Rmin - m) and (z[k] < t ) and (z[k] > b) and (x[i] > 0) and (y[j] > 0)): # to make an even square around ellipsoid\n",
    "                    V0[i, j, k] = Vrf[0]\n",
    "                    V0dc[i, j, k] = Vdc[0]\n",
    "                elif ((x[i] < - Rmin) and (x[i] > -Rmin - m) and (y[j] < Rmin + m) and (y[j] > -Rmin - m) and (z[k] < t) and (z[k] > b) and (x[i] > 0) and (y[j] > 0)): # to make an even square around ellipsoid\n",
    "                    V0[i, j, k] = Vrf[0]\n",
    "                    V0dc[i, j, k] = Vdc[0]\n",
    "                    \n",
    "                #The ellipsoidal mirror part 2, the s of the astc(all students take calculus)\n",
    "                elif ((z[k] > (a/c)* np.sqrt(c**2 - x[i]**2 -y[j]**2)) and (z[k] < t) and (z[k] > b) and (x[i] > 0) and (y[j] < 0)):# and (x[i] > 0) and (x[i] < Rmin + m) and (y[j] > 0) and (y[j] < Rmin + m)): #the top half of the ellipsoid\n",
    "                    V0[i, j, k] = Vrf[1]\n",
    "                    V0dc[i, j, k] = Vdc[1]\n",
    "                elif ((z[k] < -(a/c)* np.sqrt(c**2 - x[i]**2 -y[j]**2)) and (z[k] < t) and (z[k] > b) and (x[i] > 0) and (y[j] < 0)):# and (x[i] > 0) and (x[i] < Rmin + m) and (y[j] > 0) and (y[j] < Rmin + m)): #the top half of the ellipsoid\n",
    "                    V0[i, j, k] = Vrf[1]\n",
    "                    V0dc[i, j, k] = Vdc[1]\n",
    "                elif ((y[j] > np.sqrt(Rmin**2 - x[i]**2)) and (y[j] < Rmin + m) and (z[k] < t) and (z[k] > b) and (x[i] > 0) and (y[j] < 0)): #other part of mirror going around the top of ellipsoid\n",
    "                    V0[i, j, k] = Vrf[1]\n",
    "                    V0dc[i, j, k] = Vdc[1]\n",
    "                elif ((y[j] < -np.sqrt(Rmin**2 - x[i]**2)) and (y[j] > -Rmin - m) and (z[k] < t) and (z[k] > b) and (x[i] > 0) and (y[j] < 0)):#other part of mirror going around the bottom of ellipsoid\n",
    "                    V0[i, j, k] = Vrf[1]\n",
    "                    V0dc[i, j, k] = Vdc[1]\n",
    "                elif ((x[i] < Rmin + m) and (x[i] > Rmin) and (y[j] < Rmin + m) and (y[j] > -Rmin - m) and (z[k] < t ) and (z[k] > b) and (x[i] > 0) and (y[j] < 0)): # to make an even square around ellipsoid\n",
    "                    V0[i, j, k] = Vrf[1]\n",
    "                    V0dc[i, j, k] = Vdc[1]\n",
    "                elif ((x[i] < - Rmin) and (x[i] > -Rmin - m) and (y[j] < Rmin + m) and (y[j] > -Rmin - m) and (z[k] < t) and (z[k] > b) and (x[i] > 0) and (y[j] < 0)): # to make an even square around ellipsoid\n",
    "                    V0[i, j, k] = Vrf[1]\n",
    "                    V0dc[i, j, k] = Vdc[1]\n",
    "                    \n",
    "                #The ellipsoidal mirror part 3, the t of the astc(all students take calculus)\n",
    "                elif ((z[k] > (a/c)* np.sqrt(c**2 - x[i]**2 -y[j]**2)) and (z[k] < t) and (z[k] > b) and (x[i] < 0) and (y[j] < 0)):# and (x[i] > 0) and (x[i] < Rmin + m) and (y[j] > 0) and (y[j] < Rmin + m)): #the top half of the ellipsoid\n",
    "                    V0[i, j, k] = Vrf[2]\n",
    "                    V0dc[i, j, k] = Vdc[2]\n",
    "                elif ((z[k] < -(a/c)* np.sqrt(c**2 - x[i]**2 -y[j]**2)) and (z[k] < t) and (z[k] > b) and (x[i] < 0) and (y[j] < 0)):# and (x[i] > 0) and (x[i] < Rmin + m) and (y[j] > 0) and (y[j] < Rmin + m)): #the top half of the ellipsoid\n",
    "                    V0[i, j, k] = Vrf[2]\n",
    "                    V0dc[i, j, k] = Vdc[2]\n",
    "                elif ((y[j] > np.sqrt(Rmin**2 - x[i]**2)) and (y[j] < Rmin + m) and (z[k] < t) and (z[k] > b) and (x[i] < 0) and (y[j] < 0)): #other part of mirror going around the top of ellipsoid\n",
    "                    V0[i, j, k] = Vrf[2]\n",
    "                    V0dc[i, j, k] = Vdc[2]\n",
    "                elif ((y[j] < -np.sqrt(Rmin**2 - x[i]**2)) and (y[j] > -Rmin - m) and (z[k] < t) and (z[k] > b) and (x[i] < 0) and (y[j] < 0)):#other part of mirror going around the bottom of ellipsoid\n",
    "                    V0[i, j, k] = Vrf[2]\n",
    "                    V0dc[i, j, k] = Vdc[2]\n",
    "                elif ((x[i] < Rmin + m) and (x[i] > Rmin) and (y[j] < Rmin + m) and (y[j] > -Rmin - m) and (z[k] < t ) and (z[k] > b) and (x[i] < 0) and (y[j] < 0)): # to make an even square around ellipsoid\n",
    "                    V0[i, j, k] = Vrf[2]\n",
    "                    V0dc[i, j, k] = Vdc[2]\n",
    "                elif ((x[i] < - Rmin) and (x[i] > -Rmin - m) and (y[j] < Rmin + m) and (y[j] > -Rmin - m) and (z[k] < t) and (z[k] > b) and (x[i] < 0) and (y[j] < 0)): # to make an even square around ellipsoid\n",
    "                    V0[i, j, k] = Vrf[2]\n",
    "                    V0dc[i, j, k] = Vdc[2]\n",
    "                    \n",
    "                #The ellipsoidal mirror part 4, the c of the astc(all students take calculus)\n",
    "                elif ((z[k] > (a/c)* np.sqrt(c**2 - x[i]**2 -y[j]**2)) and (z[k] < t) and (z[k] > b) and (x[i] < 0) and (y[j] > 0)):# and (x[i] > 0) and (x[i] < Rmin + m) and (y[j] > 0) and (y[j] < Rmin + m)): #the top half of the ellipsoid\n",
    "                    V0[i, j, k] = Vrf[3]\n",
    "                    V0dc[i, j, k] = Vdc[3]\n",
    "                elif ((z[k] < -(a/c)* np.sqrt(c**2 - x[i]**2 -y[j]**2)) and (z[k] < t) and (z[k] > b) and (x[i] < 0) and (y[j] > 0)):# and (x[i] > 0) and (x[i] < Rmin + m) and (y[j] > 0) and (y[j] < Rmin + m)): #the top half of the ellipsoid\n",
    "                    V0[i, j, k] = Vrf[3]\n",
    "                    V0dc[i, j, k] = Vdc[3]\n",
    "                elif ((y[j] > np.sqrt(Rmin**2 - x[i]**2)) and (y[j] < Rmin + m) and (z[k] < t) and (z[k] > b) and (x[i] < 0) and (y[j] > 0)): #other part of mirror going around the top of ellipsoid\n",
    "                    V0[i, j, k] = Vrf[3]\n",
    "                    V0dc[i, j, k] = Vdc[3]\n",
    "                elif ((y[j] < -np.sqrt(Rmin**2 - x[i]**2)) and (y[j] > -Rmin - m) and (z[k] < t) and (z[k] > b) and (x[i] < 0) and (y[j] > 0)):#other part of mirror going around the bottom of ellipsoid\n",
    "                    V0[i, j, k] = Vrf[3]\n",
    "                    V0dc[i, j, k] = Vdc[3]\n",
    "                elif ((x[i] < Rmin + m) and (x[i] > Rmin) and (y[j] < Rmin + m) and (y[j] > -Rmin - m) and (z[k] < t ) and (z[k] > b) and (x[i] < 0) and (y[j] > 0)): # to make an even square around ellipsoid\n",
    "                    V0[i, j, k] = Vrf[3]\n",
    "                    V0dc[i, j, k] = Vdc[3]\n",
    "                elif ((x[i] < - Rmin) and (x[i] > -Rmin - m) and (y[j] < Rmin + m) and (y[j] > -Rmin - m) and (z[k] < t) and (z[k] > b) and (x[i] < 0) and (y[j] > 0)): # to make an even square around ellipsoid\n",
    "                    V0[i, j, k] = Vrf[3]\n",
    "                    V0dc[i, j, k] = Vdc[3]\n",
    "                \n",
    "                #The bottom portion of the mirror that will be a DC electrode\n",
    "                elif ((x[i] < Rmin + m) and (x[i] > -Rmin - m) and (y[j] < Rmin + m) and (y[j] > -Rmin -m) and (z[k] > b) and (z[k] < s)):\n",
    "                    V0[i, j, k] = Vrf[4]\n",
    "                    V0dc[i, j, k] = Vdc[4]\n",
    "                \n",
    "                else:\n",
    "                    V0[i, j, k] = 0\n",
    "                    V0dc[i, j, k] = 0\n",
    "                    lattice_points[marker]=[i,j,k]\n",
    "                    marker+=1\n",
    "                    \n",
    "                    \n",
    "    lattice_points=lattice_points[0:marker] # what does this mean?    \n",
    "    \n",
    "    V0_temp=V0    \n",
    "    V0dc_temp=V0dc\n",
    "    \n",
    "    for iterate in range(0,int(iterations/2)): \n",
    "         for I in range (marker):\n",
    "             point=lattice_points[I]\n",
    "             g=int(point[0])\n",
    "             e=int(point[1])\n",
    "             f=int(point[2])\n",
    "             if ((g>3 and e>3 and f>3 and g<points-5 and e<points-5 and f<points-5)):\n",
    "                 V0_temp[g,e,f] = 1/6*(V0[g+4,e,f]+V0[g-4,e,f]+V0[g,e+4,f]+V0[g,e-4,f]+V0[g,e,f+4]+V0[g,e,f-4])\n",
    "                 V0dc_temp[g,e,f] = 1/6*(V0dc[g+4,e,f]+V0dc[g-4,e,f]+V0dc[g,e+4,f]+V0dc[g,e-4,f]+V0dc[g,e,f+4]+V0dc[g,e,f-4])\n",
    "             \n",
    "       \n",
    "        \n",
    "         CenterV[iterate] = V0[xmid,ymid,zmid]\n",
    "         V0=V0_temp\n",
    "         V0dc=V0dc_temp\n",
    "          # iterate+=1\n",
    "         # print(iterate)\n",
    "\n",
    "    \n",
    "    ## Define the initial potential using FDM in small steps\n",
    "   # disp(['Calculating V in small steps...'])\n",
    "\n",
    "\n",
    "    for iterate in range(int(iterations/2),int(3*iterations/4)):\n",
    "         for I in range (marker):\n",
    "             point=lattice_points[I]\n",
    "             g=int(point[0])\n",
    "             e=int(point[1])\n",
    "             f=int(point[2])\n",
    "             if ((g>1 and e>1 and f>1 and g<points-3 and e<points-3 and f<points-3)):\n",
    "                 V0_temp[g,e,f] = 1/6*(V0[g+2,e,f]+V0[g-2,e,f]+V0[g,e+2,f]+V0[g,e-2,f]+V0[g,e,f+2]+V0[g,e,f-2])\n",
    "                 V0dc_temp[g,e,f] = 1/6*(V0dc[g+2,e,f]+V0dc[g-2,e,f]+V0dc[g,e+2,f]+V0dc[g,e-2,f]+V0dc[g,e,f+2]+V0dc[g,e,f-2])\n",
    "             \n",
    "                    \n",
    "                   \n",
    "                   \n",
    "       \n",
    "         CenterV[iterate] = V0[xmid,ymid,zmid]\n",
    "         V0=V0_temp\n",
    "         V0dc=V0dc_temp\n",
    "    \n",
    "    return V0,V0dc,CenterV,lattice_points,cords\n",
    "\n",
    "\n",
    "####***grid size in metres, size is number of lattice points. V is a NxNxN grid of potential values Feturns NxNxN grid of Efield magnitudes\n",
    "def Efield_solve(V,size,grid):\n",
    "    \n",
    "    Ex=np.zeros((size,size,size))\n",
    "    Ey=np.zeros((size,size,size))\n",
    "    Ez=np.zeros((size,size,size))\n",
    "    Ex,Ey,Ez = np.gradient(V,grid/size)\n",
    "    Emag=np.zeros((size,size,size))\n",
    "    for a in range(0,size):\n",
    "       for b in range(0,size):\n",
    "          \n",
    "          for c in range(0,size):\n",
    "              Emag[a,b,c] = math.sqrt(Ex[a,b,c]**2+Ey[a,b,c]**2+Ez[a,b,c]**2)\n",
    "    return Emag\n",
    "\n",
    "\n",
    "###return pseudopotential in eV. E_field must be NxNxN\n",
    "def Pseudo_solve(E_field,size,grid,omega,M,Q):\n",
    "    PseudoeV=np.zeros((size,size,size))\n",
    "    for a in range(0,size):\n",
    "       for b in range(0,size):\n",
    "          for c in range(0,size):\n",
    "              PseudoeV[a,b,c] = Q**2/(4*M*omega**2)*E_field[a,b,c]**2\n",
    "    return PseudoeV"
   ]
  },
  {
   "cell_type": "code",
   "execution_count": 26,
   "metadata": {},
   "outputs": [
    {
     "name": "stdout",
     "output_type": "stream",
     "text": [
      "The time elapsed is  466.20296335220337 seconds\n"
     ]
    }
   ],
   "source": [
    "#Voltages used in the simulation\n",
    "RF=np.array([0, 1000, 0,1000,0]) #corresponding to each portion of the mirror geometry\n",
    "DC=np.array([0, 0, 0,0, -50])\n",
    "\n",
    "start=time.time() # Records the time started.\n",
    "\n",
    "A=Strap(RF,DC) # Runs the simulation\n",
    "\n",
    "print(\"The time elapsed is \",time.time()-start, \"seconds\")"
   ]
  },
  {
   "cell_type": "code",
   "execution_count": 27,
   "metadata": {},
   "outputs": [
    {
     "name": "stdout",
     "output_type": "stream",
     "text": [
      "time elapsed =  437.7430911064148 seconds\n"
     ]
    }
   ],
   "source": [
    "start=time.time()\n",
    "B=Efield_solve(A[0], 401, 0.11)\n",
    "print(\"time elapsed = \",time.time()-start, \"seconds\")"
   ]
  },
  {
   "cell_type": "code",
   "execution_count": 28,
   "metadata": {},
   "outputs": [
    {
     "name": "stdout",
     "output_type": "stream",
     "text": [
      "time elapsed =  261.7349307537079\n"
     ]
    }
   ],
   "source": [
    "####record the start time\n",
    "start=time.time()\n",
    "C = Pseudo_solve(B, 401, 0.11, 10000000*2*np.pi, 2.28*10**-25, 1)* 1.6*10**-19 + A[1]\n",
    "print(\"time elapsed = \",time.time()-start)"
   ]
  },
  {
   "cell_type": "code",
   "execution_count": 31,
   "metadata": {},
   "outputs": [
    {
     "data": {
      "image/png": "[encoded data removed]",
      "text/plain": [
       "<Figure size 432x288 with 2 Axes>"
      ]
     },
     "metadata": {
      "needs_background": "light"
     },
     "output_type": "display_data"
    }
   ],
   "source": [
    "R= plt.imshow(C[:,200,:], cmap=plt.cm.get_cmap('viridis', 10))\n",
    "plt.colorbar()\n",
    "plt.clim(0,0.5)\n",
    "plt.axis([1, 110, 150, 250])\n",
    "plt.show()"
   ]
  },
  {
   "cell_type": "code",
   "execution_count": 32,
   "metadata": {},
   "outputs": [
    {
     "data": {
      "text/plain": [
       "[1, 110, 150, 250]"
      ]
     },
     "execution_count": 32,
     "metadata": {},
     "output_type": "execute_result"
    },
    {
     "data": {
      "image/png": "[encoded data removed]",
      "text/plain": [
       "<Figure size 432x288 with 1 Axes>"
      ]
     },
     "metadata": {
      "needs_background": "light"
     },
     "output_type": "display_data"
    }
   ],
   "source": [
    "plt.imshow(A[1][:,200,:], cmap=plt.cm.get_cmap('viridis', 20))\n",
    "plt.axis([1, 110, 150, 250])"
   ]
  },
  {
   "cell_type": "code",
   "execution_count": null,
   "metadata": {},
   "outputs": [],
   "source": []
  }
 ],
 "metadata": {
  "kernelspec": {
   "display_name": "Python 3",
   "language": "python",
   "name": "python3"
  },
  "language_info": {
   "codemirror_mode": {
    "name": "ipython",
    "version": 3
   },
   "file_extension": ".py",
   "mimetype": "text/x-python",
   "name": "python",
   "nbconvert_exporter": "python",
   "pygments_lexer": "ipython3",
   "version": "3.7.6"
  }
 },
 "nbformat": 4,
 "nbformat_minor": 4
}
