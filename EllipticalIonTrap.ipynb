{
 "cells": [
  {
   "cell_type": "code",
   "execution_count": 2,
   "metadata": {},
   "outputs": [],
   "source": [
    "import numpy as np\n",
    "import math\n",
    "\n",
    "# import astropy.units as u\n",
    "from matplotlib import pyplot as plt\n",
    "import time\n",
    "from numba import njit,prange\n",
    "# import scipy.interpolate as interpl\n",
    "# from numba.extending import overload\n",
    "# from mpl_toolkits.mplot3d import axes3d\n",
    "# from matplotlib import cm\n",
    "# from matplotlib import pyplot as plt"
   ]
  },
  {
   "cell_type": "code",
   "execution_count": 18,
   "metadata": {},
   "outputs": [],
   "source": [
    "@njit(boundscheck=True)\n",
    "def trap(Vrf, Vdc):\n",
    "    \n",
    "    #define the trap parameters\n",
    "    eps = 0.97413; #roughly the eccentricity\n",
    "    f = 1; #flattening\n",
    "    a = 0.05; #semi-minor axis\n",
    "    c = 0.226*a; #distance from center to pole, semi major #0.293 is the exact like his photo, but doesn't give as good of a trap\n",
    "    Rmin = 0.0114; #radius of the waist of the ellipsoid\n",
    "    m = 0.01; #additional mirror thickness horizontal\n",
    "    #t =  0.03; # the very top of the mirror\n",
    "    #s = -0.035; # the bottom of the grounded part/the top of the RF part\n",
    "    #u = -0.046965; # where the top of the laser opening is\n",
    "    #d = -0.048465; # where the bottom of the laser opening is\n",
    "    #b = -0.0509; # The bottom of the mirror block\n",
    "    t =  0.03; # the very top of the mirror\n",
    "    s = -0.0499;#-0.025; # the bottom of the grounded part/the top of the RF part\n",
    "    u = -0.046965; # where the top of the laser opening is\n",
    "    d = -0.048465; # where the bottom of the laser opening is\n",
    "    u0 = 0.5*(u + d); # The z point of the optical focus (0, 0 , u0)\n",
    "    slope = 0.5; #slope of line of laser slits\n",
    "    b = -0.0509; # The bottom of the mirror block\n",
    "    Rhole = 0.0009; #radius of the hole\n",
    "    RholeLaser = 0.001; # Radius of the laser hole\n",
    "    Hneedle = -0.0009; #height of needle inside trap up until the beginning of the needle tip\n",
    "    Rneedle = 0.00023; #radius of needle\n",
    "    HneedleTip = 0.0024; # height of needle tip from needle body\n",
    "    RneedleTip = 0.0001; # The ball on top of the needle\n",
    "    Bneedle = b; #where the needle begins\n",
    "     \n",
    "    \n",
    "    #Properties of our grid\n",
    "    gmax = 0.052 #physical size of the space simulated (meters)\n",
    "    points = 401 # number of points that are being simulated\n",
    "    steps = points - 1 # just the number of points minus one\n",
    "    x = np.linspace(-gmax/2, gmax/2, points) #chosing how much space in the x, y, z direction, where it begins and where it ends\n",
    "    y = np.linspace(-gmax/2, gmax/2, points)\n",
    "    z = np.linspace(-gmax, 0, points)\n",
    "    size = len(x) # telling it how to organize these spaces\n",
    "    sizeZ = len(z)\n",
    "    xmid = int((size)/2)\n",
    "    ymid = int((size)/2)\n",
    "    zmid = int((sizeZ)/2) \n",
    "    lattice_points=np.zeros((size**3,3))\n",
    "    marker=0 #What do these mean?\n",
    "    \n",
    "    V0 = np.zeros((size, size, size)) #initialize the matrix for electric potential\n",
    "    V0dc= np.zeros((size, size, size))\n",
    "    V0_temp=np.zeros((size, size, size))\n",
    "    V0dc_temp=np.zeros((size, size, size))\n",
    "    cords=np.zeros((size, size, size, 3))\n",
    "    iterations = 600 #number of iterations\n",
    "    CenterV = np.zeros((iterations,1)) #keep track of the potential value at the center at each iteration\n",
    "    \n",
    "    # Now define the boundry conditions\n",
    "    for i in range(len(x)):\n",
    "        for j in range(len(y)):\n",
    "            for k in range(len(z)):\n",
    "                cords[i, j, k] = [i, j, k]\n",
    "                    \n",
    "\n",
    "                #The ellipsoidal mirror part 1, the laser slit and up\n",
    "                if ((z[k] > (a/c)* np.sqrt(c**2 - x[i]**2 -y[j]**2)) and (z[k] < t) and (z[k] > slope*x[i] + u) and (z[k] > s)): #the top half of the ellipsoid\n",
    "                    V0[i, j, k] = Vrf[0]\n",
    "                    V0dc[i, j, k] = Vdc[0]\n",
    "                elif ((z[k] < -(a/c)* np.sqrt(c**2 - x[i]**2 -y[j]**2)) and (z[k] < t) and (z[k] > slope*x[i] + u) and (z[k] > s)): #the bottom half of the ellipsoid\n",
    "                    V0[i, j, k] = Vrf[0]\n",
    "                    V0dc[i, j, k] = Vdc[0]\n",
    "                elif ((y[j] > np.sqrt(Rmin**2 - x[i]**2)) and (y[j] < Rmin + m) and (z[k] < t) and (z[k] > slope*x[i] + u) and (z[k] > s)): #other part of mirror going around the top of ellipsoid\n",
    "                    V0[i, j, k] = Vrf[0]\n",
    "                    V0dc[i, j, k] = Vdc[0]\n",
    "                elif ((y[j] < -np.sqrt(Rmin**2 - x[i]**2)) and (y[j] > -Rmin - m) and (z[k] < t) and (z[k] > slope*x[i] + u) and (z[k] > s)):#other part of mirror going around the bottom of ellipsoid\n",
    "                    V0[i, j, k] = Vrf[0]\n",
    "                    V0dc[i, j, k] = Vdc[0]\n",
    "                elif ((x[i] < Rmin + m) and (x[i] > Rmin) and (y[j] < Rmin + m) and (y[j] > -Rmin - m) and (z[k] < t ) and (z[k] > slope*x[i] + u) and (z[k] > s)): # to make an even square around ellipsoid\n",
    "                    V0[i, j, k] = Vrf[0]\n",
    "                    V0dc[i, j, k] = Vdc[0]\n",
    "                elif ((x[i] < - Rmin) and (x[i] > -Rmin - m) and (y[j] < Rmin + m) and (y[j] > -Rmin - m) and (z[k] < t) and (z[k] > slope*x[i] + u) and (z[k] > s)): # to make an even square around ellipsoid\n",
    "                    V0[i, j, k] = Vrf[0]\n",
    "                    V0dc[i, j, k] = Vdc[0]\n",
    "                    \n",
    "                #The ellipsoidal mirror part 2, the laser slit and down\n",
    "                elif ((z[k] > (a/c)* np.sqrt(c**2 - x[i]**2 -y[j]**2)) and (z[k] < slope*x[i] + d) and (z[k] > s) and (z[k] < t)): #the top half of the ellipsoid\n",
    "                    V0[i, j, k] = Vrf[1]\n",
    "                    V0dc[i, j, k] = Vdc[1]\n",
    "                elif ((z[k] < -(a/c)* np.sqrt(c**2 - x[i]**2 -y[j]**2)) and (z[k] < slope*x[i] + d) and (z[k] > s) and (z[k] < t)): #the bottom half of the ellipsoid\n",
    "                    V0[i, j, k] = Vrf[1]\n",
    "                    V0dc[i, j, k] = Vdc[1]\n",
    "                elif ((y[j] > np.sqrt(Rmin**2 - x[i]**2)) and (y[j] < Rmin + m) and (z[k] < slope*x[i] + d) and (z[k] > s) and (z[k] < t)): #other part of mirror going around the top of ellipsoid\n",
    "                    V0[i, j, k] = Vrf[1]\n",
    "                    V0dc[i, j, k] = Vdc[1]\n",
    "                elif ((y[j] < -np.sqrt(Rmin**2 - x[i]**2)) and (y[j] > -Rmin - m) and (z[k] < slope*x[i] + d) and (z[k] > s) and (z[k] < t)):#other part of mirror going around the bottom of ellipsoid\n",
    "                    V0[i, j, k] = Vrf[1]\n",
    "                    V0dc[i, j, k] = Vdc[1]\n",
    "                elif ((x[i] < Rmin + m) and (x[i] > Rmin) and (y[j] < Rmin + m) and (y[j] > -Rmin - m) and (z[k] < slope*x[i] + d) and (z[k] > s) and (z[k] < t)): # to make an even square around ellipsoid\n",
    "                    V0[i, j, k] = Vrf[1]\n",
    "                    V0dc[i, j, k] = Vdc[1]\n",
    "                elif ((x[i] < - Rmin) and (x[i] > -Rmin - m) and (y[j] < Rmin + m) and (y[j] > -Rmin - m) and (z[k] < slope*x[i] + d) and (z[k] > s) and (z[k] < t)): # to make an even square around ellipsoid\n",
    "                    V0[i, j, k] = Vrf[1]\n",
    "                    V0dc[i, j, k] = Vdc[1]\n",
    "                    \n",
    "                # Bottom of the ellipsoidal mirror part 1, the laser slit and up\n",
    "                elif ((x[i] > np.sqrt(Rhole**2 - y[j]**2)) and (x[i] < Rmin + m) and (y[j] < Rmin + m) and (y[j] > -Rmin - m) and (z[k] <= s) and (z[k] > b)):\n",
    "                    V0[i, j, k] = Vrf[0]\n",
    "                    V0dc[i, j, k] = Vdc[0]\n",
    "                elif ((x[i] < -np.sqrt(Rhole**2 - y[j]**2)) and (x[i] > -Rmin - m) and (y[j] < Rmin + m) and (y[j] > -Rmin - m) and (z[k] <= s) and (z[k] > b)): # and (z[k] > slope*x[i] + u)):\n",
    "                    V0[i, j, k] = Vrf[0]\n",
    "                    V0dc[i, j, k] = Vdc[0]\n",
    "                elif ((x[i] > -Rmin - m) and (y[j] < -Rhole) and (x[i] < Rmin + m) and (y[j] > -Rmin - m) and (z[k] <= s) and (z[k] > b)):\n",
    "                    V0[i, j, k] = Vrf[0]\n",
    "                    V0dc[i, j, k] = Vdc[0]\n",
    "                elif ((x[i] < Rmin + m) and (y[j] > Rhole) and (y[j] < Rmin + m) and (x[i] > -Rmin - m) and (z[k] <= s) and (z[k] > b)):\n",
    "                    V0[i, j, k] = Vrf[0]\n",
    "                    V0dc[i, j, k] = Vdc[0]\n",
    "                    \n",
    "                # Bottom of the ellipsoidal mirror part 2, the laser slit and down\n",
    "                elif ((x[i] > np.sqrt(Rhole**2 - y[j]**2)) and (x[i] < Rmin + m) and (y[j] < Rmin + m) and (y[j] > -Rmin - m) and (z[k] <= s) and (z[k] > b)):\n",
    "                    V0[i, j, k] = Vrf[1]\n",
    "                    V0dc[i, j, k] = Vdc[1]\n",
    "                elif ((x[i] < -np.sqrt(Rhole**2 - y[j]**2)) and (x[i] > -Rmin - m) and (y[j] < Rmin + m) and (y[j] > -Rmin - m) and (z[k] <= s) and (z[k] > b)):# and (z[k] < slope*x[i] + d)):\n",
    "                    V0[i, j, k] = Vrf[1]\n",
    "                    V0dc[i, j, k] = Vdc[1]\n",
    "                elif ((x[i] > -Rmin - m) and (y[j] < -Rhole) and (x[i] < Rmin + m) and (y[j] > -Rmin - m) and (z[k] <= s) and (z[k] > b)):\n",
    "                    V0[i, j, k] = Vrf[1]\n",
    "                    V0dc[i, j, k] = Vdc[1]\n",
    "                elif ((x[i] < Rmin + m) and (y[j] > Rhole) and (y[j] < Rmin + m) and (x[i] > -Rmin - m) and (z[k] <= s) and (z[k] > b)):\n",
    "                    V0[i, j, k] = Vrf[1]\n",
    "                    V0dc[i, j, k] = Vdc[1]\n",
    "                    \n",
    "                #The needle\n",
    "                elif ((y[j] < np.sqrt(Rneedle - x[i]**2)) and (x[i] < Rneedle) and (x[i] > -Rneedle) and (y[j] > -np.sqrt(Rneedle - x[i]**2)) and (y[j] < Rneedle) and (y[j] > -Rneedle) and (z[k] > -Bneedle) and (z[k] < -Bneedle + Hneedle)):\n",
    "                    V0[i, j, k] = Vrf[2]\n",
    "                    V0dc[i, j, k] = Vdc[2]\n",
    "                #The needle tip\n",
    "                elif ((z[k] < - np.sqrt(x[i]**2 + y[j]**2)*12.5) and (x[i] < Rneedle) and (x[i] > -Rneedle) and (y[j] > -Rneedle) and (y[j] < Rneedle) and (z[k] > -Bneedle + Hneedle) and (z[k] < -Bneedle + Hneedle + HneedleTip)):\n",
    "                    V0[i, j, k] = Vrf[2]\n",
    "                    V0dc[i, j, k] = Vdc[2]\n",
    "                #the very tip of the needle (to avoid fringing effects)\n",
    "                elif ((z[k] > -Bneedle + Hneedle + HneedleTip - 0.0002) and (z[k] < -Bneedle + Hneedle + HneedleTip + 0.0002) and (z[k] < np.sqrt(RneedleTip**2 - x[i]**2 - y[j]**2))):\n",
    "                    V0[i, j, k] = Vrf[2]\n",
    "                    V0dc[i, j, k] = Vdc[2]\n",
    "                \n",
    "\n",
    "\n",
    "                else:\n",
    "                    V0[i, j, k] = 0\n",
    "                    V0dc[i, j, k] = 0\n",
    "                    lattice_points[marker]=[i,j,k]\n",
    "                    marker+=1\n",
    "                    \n",
    "                    \n",
    "    lattice_points=lattice_points[0:marker] # what does this mean?    \n",
    "    \n",
    "    V0_temp=V0    \n",
    "    V0dc_temp=V0dc\n",
    "    \n",
    "    for iterate in range(0,int(iterations/2)): \n",
    "         for I in range (marker):\n",
    "             point=lattice_points[I]\n",
    "             g=int(point[0])\n",
    "             e=int(point[1])\n",
    "             f=int(point[2])\n",
    "             if ((g>3 and e>3 and f>3 and g<points-5 and e<points-5 and f<points-5)):\n",
    "                 V0_temp[g,e,f] = 1/6*(V0[g+4,e,f]+V0[g-4,e,f]+V0[g,e+4,f]+V0[g,e-4,f]+V0[g,e,f+4]+V0[g,e,f-4])\n",
    "                 V0dc_temp[g,e,f] = 1/6*(V0dc[g+4,e,f]+V0dc[g-4,e,f]+V0dc[g,e+4,f]+V0dc[g,e-4,f]+V0dc[g,e,f+4]+V0dc[g,e,f-4])\n",
    "             \n",
    "       \n",
    "        \n",
    "         CenterV[iterate] = V0[xmid,ymid,zmid]\n",
    "         V0=V0_temp\n",
    "         V0dc=V0dc_temp\n",
    "          # iterate+=1\n",
    "         # print(iterate)\n",
    "\n",
    "    \n",
    "    ## Define the initial potential using FDM in small steps\n",
    "   # disp(['Calculating V in small steps...'])\n",
    "\n",
    "\n",
    "    for iterate in range(int(iterations/2),int(3*iterations/4)):\n",
    "         for I in range (marker):\n",
    "             point=lattice_points[I]\n",
    "             g=int(point[0])\n",
    "             e=int(point[1])\n",
    "             f=int(point[2])\n",
    "             if ((g>1 and e>1 and f>1 and g<points-3 and e<points-3 and f<points-3)):\n",
    "                 V0_temp[g,e,f] = 1/6*(V0[g+2,e,f]+V0[g-2,e,f]+V0[g,e+2,f]+V0[g,e-2,f]+V0[g,e,f+2]+V0[g,e,f-2])\n",
    "                 V0dc_temp[g,e,f] = 1/6*(V0dc[g+2,e,f]+V0dc[g-2,e,f]+V0dc[g,e+2,f]+V0dc[g,e-2,f]+V0dc[g,e,f+2]+V0dc[g,e,f-2])\n",
    "             \n",
    "                    \n",
    "                   \n",
    "                   \n",
    "       \n",
    "         CenterV[iterate] = V0[xmid,ymid,zmid]\n",
    "         V0=V0_temp\n",
    "         V0dc=V0dc_temp\n",
    "    \n",
    "    return V0,V0dc,CenterV,lattice_points,cords"
   ]
  },
  {
   "cell_type": "code",
   "execution_count": 19,
   "metadata": {},
   "outputs": [
    {
     "name": "stdout",
     "output_type": "stream",
     "text": [
      "time elapsed =  126.95080518722534\n"
     ]
    }
   ],
   "source": [
    "    ###Sample voltages to use in the simulation\n",
    "RF=np.array([0, 1000, 0])\n",
    "DC=np.array([0, 0,0])\n",
    "####record the start time\n",
    "start=time.time()\n",
    "#Run the simulation\n",
    "A=trap(RF,DC)\n",
    "print(\"time elapsed = \",time.time()-start)"
   ]
  },
  {
   "cell_type": "code",
   "execution_count": 20,
   "metadata": {},
   "outputs": [
    {
     "data": {
      "text/plain": [
       "<matplotlib.image.AxesImage at 0x2423fbf6988>"
      ]
     },
     "execution_count": 20,
     "metadata": {},
     "output_type": "execute_result"
    },
    {
     "data": {
      "image/png": "[encoded data removed]",
      "text/plain": [
       "<Figure size 432x288 with 1 Axes>"
      ]
     },
     "metadata": {
      "needs_background": "light"
     },
     "output_type": "display_data"
    }
   ],
   "source": [
    "###################PLOTTING EXAMPLES###########\n",
    "# plot the xy plane for the dc potential\n",
    "plt.imshow(A[0][:,200,:])#, cmap=plt.cm.get_cmap('viridis', 2))\n",
    "#plt.axis([70, 90, 290, 310]) #looking at z axis\n",
    "#plt.axis([0, 50, 290, 310])\n",
    "#plot the z axis for the RF potential\n",
    "#plt.plot(plt.imshow(A[0][50,50,:]))"
   ]
  },
  {
   "cell_type": "code",
   "execution_count": 21,
   "metadata": {},
   "outputs": [],
   "source": [
    "####***grid size in metres, size is number of lattice points. V is a NxNxN grid of potential values Feturns NxNxN grid of Efield magnitudes\n",
    "def Efield_solve(V,size,grid):\n",
    "    \n",
    "    Ex=np.zeros((size,size,size))\n",
    "    Ey=np.zeros((size,size,size))\n",
    "    Ez=np.zeros((size,size,size))\n",
    "    Ex,Ey,Ez = np.gradient(V,grid/size)\n",
    "    Emag=np.zeros((size,size,size))\n",
    "    for a in range(0,size):\n",
    "       for b in range(0,size):\n",
    "          \n",
    "          for c in range(0,size):\n",
    "              Emag[a,b,c] = math.sqrt(Ex[a,b,c]**2+Ey[a,b,c]**2+Ez[a,b,c]**2)\n",
    "    return Emag\n",
    "###return pseudopotential in eV. E_field must be NxNxN\n",
    "def Pseudo_solve(E_field,size,grid,omega,M,Q):\n",
    "    PseudoeV=np.zeros((size,size,size))\n",
    "    for a in range(0,size):\n",
    "       for b in range(0,size):\n",
    "          for c in range(0,size):\n",
    "              PseudoeV[a,b,c] = Q**2/(4*M*omega**2)*E_field[a,b,c]**2\n",
    "    return PseudoeV\n",
    "###tahes dc potential and pseudo potential to give effective potential energy\n",
    "def Eeff(PS,Vdc,Q,size):\n",
    "    PE=np.zeros((size,size,size),dtype=np.long)\n",
    "    for a in range(0,size):\n",
    "       for b in range(0,size):\n",
    "          for c in range(0,size):\n",
    "              PE[a,b,c]=Q*Vdc[a,b,c]+PS[a,b,c]\n",
    "    return PE\n",
    "def Force_field(PE,grid,steps):\n",
    "    return np.gradient(PE,grid/steps)"
   ]
  },
  {
   "cell_type": "code",
   "execution_count": 4,
   "metadata": {},
   "outputs": [
    {
     "data": {
      "text/plain": [
       "7.110258501216686e-30"
      ]
     },
     "execution_count": 4,
     "metadata": {},
     "output_type": "execute_result"
    }
   ],
   "source": [
    "(1.6*10**(-19))**2/ (4*2.28*10**-25 *(10000000*2*np.pi)**2)"
   ]
  },
  {
   "cell_type": "code",
   "execution_count": 22,
   "metadata": {},
   "outputs": [
    {
     "name": "stdout",
     "output_type": "stream",
     "text": [
      "time elapsed =  107.94838857650757 seconds\n"
     ]
    }
   ],
   "source": [
    "start=time.time()\n",
    "B=Efield_solve(A[0], 401, 0.052)\n",
    "print(\"time elapsed = \",time.time()-start, \"seconds\")"
   ]
  },
  {
   "cell_type": "code",
   "execution_count": 23,
   "metadata": {},
   "outputs": [
    {
     "name": "stdout",
     "output_type": "stream",
     "text": [
      "time elapsed =  83.03095555305481\n"
     ]
    }
   ],
   "source": [
    "####record the start time\n",
    "start=time.time()\n",
    "C = Pseudo_solve(B, 401, 0.052, 10085000*2*np.pi, 2.28*10**-25, 1)* 1.6*10**-19\n",
    "print(\"time elapsed = \",time.time()-start)\n"
   ]
  },
  {
   "cell_type": "code",
   "execution_count": 25,
   "metadata": {},
   "outputs": [
    {
     "data": {
      "image/png": "[encoded data removed]",
      "text/plain": [
       "<Figure size 432x288 with 2 Axes>"
      ]
     },
     "metadata": {
      "needs_background": "light"
     },
     "output_type": "display_data"
    }
   ],
   "source": [
    "R= plt.imshow(C[:,200,:], cmap=plt.cm.get_cmap('viridis', 10))\n",
    "plt.colorbar()\n",
    "plt.clim(0,.01)\n",
    "plt.axis([1, 90, 150, 250])\n",
    "plt.show()\n",
    "\n",
    "#tried splitting into two dieclectrics, bottom voltage, top grounded, with cut off being at t=b2=0.0 -> did not work\n",
    "#tried three different splittings, did not really seem to work that well, but there was a energy well of about 0.6 eV, but seemed very small"
   ]
  },
  {
   "cell_type": "code",
   "execution_count": 154,
   "metadata": {},
   "outputs": [
    {
     "data": {
      "text/plain": [
       "[20, 100, 0, 1]"
      ]
     },
     "execution_count": 154,
     "metadata": {},
     "output_type": "execute_result"
    },
    {
     "data": {
      "image/png": "[encoded data removed]",
      "text/plain": [
       "<Figure size 432x288 with 1 Axes>"
      ]
     },
     "metadata": {
      "needs_background": "light"
     },
     "output_type": "display_data"
    }
   ],
   "source": [
    "plt.plot(C[200, 200, :])\n",
    "plt.axis([20, 100, 0, 1])\n"
   ]
  },
  {
   "cell_type": "code",
   "execution_count": null,
   "metadata": {},
   "outputs": [],
   "source": []
  }
 ],
 "metadata": {
  "kernelspec": {
   "display_name": "Python 3",
   "language": "python",
   "name": "python3"
  },
  "language_info": {
   "codemirror_mode": {
    "name": "ipython",
    "version": 3
   },
   "file_extension": ".py",
   "mimetype": "text/x-python",
   "name": "python",
   "nbconvert_exporter": "python",
   "pygments_lexer": "ipython3",
   "version": "3.7.6"
  }
 },
 "nbformat": 4,
 "nbformat_minor": 4
}
