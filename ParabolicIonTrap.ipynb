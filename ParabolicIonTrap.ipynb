{
 "cells": [
  {
   "cell_type": "code",
   "execution_count": 1,
   "metadata": {},
   "outputs": [],
   "source": [
    "import numpy as np\n",
    "import math\n",
    "from matplotlib import pyplot as plt\n",
    "import time\n",
    "from numba import njit,prange"
   ]
  },
  {
   "cell_type": "code",
   "execution_count": 91,
   "metadata": {},
   "outputs": [],
   "source": [
    "@njit(boundscheck=True)\n",
    "def FDM_BIv03(Vrf, Vdc):\n",
    "    \n",
    "    #Define the parameters that make up your trap\n",
    "    #For the mirror ** For now, just assume there is no hole at the bottom or holes for the slits, and mirror takes up all of lower surface **\n",
    "    Hmirror = .00323; #mirror height\n",
    "    Ropening = .00508; # radius at Hmirror\n",
    "    #for the top endcap\n",
    "    Htopcap = 0.0035; #distance from bottom of mirror to bottom of top end cap\n",
    "    Ttopcap = .001; #thickness of top end cap\n",
    "    PlateWidth = 0.013; #width of bias plate arms\n",
    "    PlateLength = 0.01; # From center of mirror point to bias plate edge\n",
    "    TGroundPlate = 0.001; #Thickness of grounded plate on top of Bias plates\n",
    "    #for the needle\n",
    "    Hneedle = -0.0006; #height of needle inside trap up until the beginning of the needle tip\n",
    "    Rneedle = 0.00023; #radius of needle\n",
    "    HneedleTip = 0.0024; # height of needle tip from needle body\n",
    "    RneedleTip = 0.00002;\n",
    "    theta = 2*np.arctan(Rneedle/HneedleTip); #opening angle of needle tip cone\n",
    "\n",
    "    #Not sure what to do with this yet: mirror_equation = (Hmirror / Ropening**2) * (x**2 +y**2); #the equation describing the shape of the mirror (paraboloid). form of z=(1/a^2)(x^2+y^2)\n",
    "    \n",
    "    #Properties of our grid\n",
    "    gmax = 0.0075#physical size of the space simulated (meters)\n",
    "    points = 401 # number of points that are being simulated\n",
    "    steps = points - 1 # just the number of points minus one\n",
    "    x = np.linspace(-gmax, gmax, points) #chosing how much space in the x, y, z direction, where it begins and where it ends\n",
    "    y = np.linspace(-gmax, gmax, points)\n",
    "    z = np.linspace(0, 2*gmax, points)\n",
    "    size = len(x) # telling it how to organize these spaces\n",
    "    sizeZ = len(z)\n",
    "    xmid = int((size)/2)\n",
    "    ymid = int((size)/2)\n",
    "    zmid = int((sizeZ)/2) \n",
    "    lattice_points=np.zeros((size**3,3))\n",
    "    marker=0 #What do these mean?\n",
    "\n",
    "    \n",
    "    V0 = np.zeros((size, size, size)) #initialize the matrix for electric potential\n",
    "    V0dc= np.zeros((size, size, size))\n",
    "    V0_temp=np.zeros((size, size, size))\n",
    "    V0dc_temp=np.zeros((size, size, size))\n",
    "    cords=np.zeros((size, size, size, 3))\n",
    "    iterations = 400 #number of iterations\n",
    "    CenterV = np.zeros((iterations,1)) #keep track of the potential value at the center at each iteration\n",
    "    \n",
    "    \n",
    "    #Now define the boundry conditions\n",
    "\n",
    "    for i in range(len(x)):\n",
    "        for j in range(len(y)):\n",
    "            for k in range(len(z)):\n",
    "                cords[i, j, k] = [i, j, k]\n",
    "                \n",
    "                #The top end cap Htopcap <= z <= Htopcap +Ttopcap\n",
    "                 #Arm one of Bias plates\n",
    "                if ((x[i] >= -PlateWidth/2) and (x[i] <= PlateWidth/2) and (y[j] > Ropening -0.000) and (z[k] > Htopcap) and (z[k] < (Htopcap + Ttopcap))):\n",
    "                    V0[i, j, k] = Vrf[0]\n",
    "                    V0dc[i, j, k] = Vdc[0]\n",
    "                #Arm Two of bias plate\n",
    "                elif ((y[j] >= -PlateWidth/2) and (y[j] <= PlateWidth/2) and (x[i] > Ropening-0.000) and (z[k] > Htopcap) and (z[k] < (Htopcap + Ttopcap))):\n",
    "                    V0[i, j, k] = Vrf[0]\n",
    "                    V0dc[i, j, k] = Vdc[0]\n",
    "                #Arm three of bias plate\n",
    "                elif ((x[i] >= -PlateWidth/2) and (x[i] <= PlateWidth/2) and (y[j] < -Ropening +0.00) and (z[k] > Htopcap) and (z[k] < (Htopcap + Ttopcap))):\n",
    "                    V0[i, j, k] = Vrf[0]\n",
    "                    V0dc[i, j, k] = Vdc[0]\n",
    "                #Arm four of bias plate\n",
    "                elif ((y[j] >= -PlateWidth/2) and (y[j] <= PlateWidth/2) and (x[i] < -Ropening+0.000) and (z[k] > Htopcap) and (z[k] < (Htopcap + Ttopcap))):\n",
    "                    V0[i, j, k] = Vrf[0]\n",
    "                    V0dc[i, j, k] = Vdc[0]\n",
    "                    \n",
    "                #Grounded top plate\n",
    "                 #Arm one of Grounded plates\n",
    "                elif ((x[i] >= -PlateWidth/2) and (x[i] <= PlateWidth/2) and (y[j] > Ropening) and (z[k] > Htopcap + Ttopcap+ 0.0002) and (z[k] < (Htopcap + Ttopcap + TGroundPlate +0.0002))):\n",
    "                    V0[i, j, k] = Vrf[3] #what do these numbers mean?\n",
    "                    V0dc[i, j, k] = Vdc[3]\n",
    "                #Arm Two of Grounded plate\n",
    "                elif ((y[j] >= -PlateWidth/2) and (y[j] <= PlateWidth/2) and (x[i] > Ropening) and (z[k] > Htopcap + Ttopcap+ 0.0002) and (z[k] < (Htopcap + Ttopcap + TGroundPlate +0.0002))):\n",
    "                    V0[i, j, k] = Vrf[3] #what do these numbers mean?\n",
    "                    V0dc[i, j, k] = Vdc[3]\n",
    "                #Arm three of grounded plate\n",
    "                elif ((x[i] >= -PlateWidth/2) and (x[i] <= PlateWidth/2) and (y[j] < -Ropening) and (z[k] > Htopcap + Ttopcap+ 0.0002) and (z[k] < (Htopcap + Ttopcap + TGroundPlate +0.0002))):\n",
    "                    V0[i, j, k] = Vrf[3] #what do these numbers mean?\n",
    "                    V0dc[i, j, k] = Vdc[3]\n",
    "                #Arm four of grounded plate\n",
    "                elif ((y[j] >= -PlateWidth/2) and (y[j] <= PlateWidth/2) and (x[i] < -Ropening) and (z[k] > Htopcap + Ttopcap+ 0.0002) and (z[k] < (Htopcap + Ttopcap + TGroundPlate +0.0002))):\n",
    "                    V0[i, j, k] = Vrf[3] #what do these numbers mean?\n",
    "                    V0dc[i, j, k] = Vdc[3]\n",
    "                \n",
    "                #The mirror\n",
    "                elif ((z[k] > 0) and (z[k] < Hmirror) and (z[k] <= (Hmirror / Ropening**2) * (x[i]**2 + y[j]**2))):\n",
    "                    V0[i, j, k] = Vrf[1]\n",
    "                    V0dc[i, j, k] = Vdc[1]\n",
    "                \n",
    "                #The needle\n",
    "                elif ((y[j] < np.sqrt(Rneedle - x[i]**2)) and (x[i] < Rneedle) and (x[i] > -Rneedle) and (y[j] > -np.sqrt(Rneedle - x[i]**2)) and (y[j] < Rneedle) and (y[j] > -Rneedle) and (z[k] > 0) and (z[k] < Hneedle)):\n",
    "                #elif ((z[k] < ((x[i] + y[j]) + np.sqrt(3 * Rneedle**2 + 6 * x[i] * y[i])) / 2) and (z[k] > -((x[i] + y[j]) + np.sqrt(3 * Rneedle**2 + 6 * x[i] * y[i])) / 2) and (z[k] > 0) and (z[k] <Hneedle) and (np.abs(x[i]) < Rneedle) and (np.abs(y[j] < Rneedle))):\n",
    "                    V0[i, j, k] = Vrf[2]\n",
    "                    V0dc[i, j, k] = Vdc[2]\n",
    "                #The needle tip\n",
    "                elif ((z[k] < - np.sqrt(x[i]**2 + y[j]**2)*12.5 +0.002) and (x[i] < Rneedle) and (x[i] > -Rneedle) and (y[j] > -Rneedle) and (y[j] < Rneedle) and (z[k] > Hneedle) and (z[k] < Hneedle + HneedleTip)):\n",
    "                    V0[i, j, k] = Vrf[2]\n",
    "                    V0dc[i, j, k] = Vdc[2]\n",
    "                #the very tip of the needle (to hopefully avoid fringing effects)\n",
    "                elif ((z[k] > Hneedle + HneedleTip -0.0001) and (z[k]< Hneedle + HneedleTip + 0.0001) and (z[k] < np.sqrt(RneedleTip**2 - x[i]**2 - y[j]**2) + 0.002)):\n",
    "                    V0[i, j, k] = Vrf[2]\n",
    "                    V0dc[i, j, k] = Vdc[2]\n",
    "                    \n",
    "               # and (x[i] < Rneedle) and (x[i] > -Rneedle)     \n",
    "                #In the space with no electrodes:\n",
    "                else:\n",
    "                    V0[i, j, k] = 0\n",
    "                    V0dc[i, j, k] = 0\n",
    "                    lattice_points[marker]=[i,j,k]\n",
    "                    marker+=1\n",
    "                    \n",
    "    lattice_points=lattice_points[0:marker] # what does this mean?\n",
    "                \n",
    "    V0_temp=V0    \n",
    "    V0dc_temp=V0dc\n",
    "    \n",
    "    \n",
    "    for iterate in range(0,int(iterations/2)): \n",
    "         for I in range (marker):\n",
    "             point=lattice_points[I]\n",
    "             a=int(point[0])\n",
    "             b=int(point[1])\n",
    "             c=int(point[2])\n",
    "             if ((a>3 and b>3 and c>3 and a<points-5 and b<points-5 and c<points-5)):\n",
    "                 V0_temp[a,b,c] = 1/6*(V0[a+4,b,c]+V0[a-4,b,c]+V0[a,b+4,c]+V0[a,b-4,c]+V0[a,b,c+4]+V0[a,b,c-4])\n",
    "                 V0dc_temp[a,b,c] = 1/6*(V0dc[a+4,b,c]+V0dc[a-4,b,c]+V0dc[a,b+4,c]+V0dc[a,b-4,c]+V0dc[a,b,c+4]+V0dc[a,b,c-4])\n",
    "             \n",
    "       \n",
    "        \n",
    "         CenterV[iterate] = V0[xmid,ymid,zmid]\n",
    "         V0=V0_temp\n",
    "         V0dc=V0dc_temp\n",
    "          # iterate+=1\n",
    "         # print(iterate)\n",
    "\n",
    "    \n",
    "    ## Define the initial potential using FDM in small steps\n",
    "   # disp(['Calculating V in small steps...'])\n",
    "\n",
    "\n",
    "    for iterate in range(int(iterations/2),int(3*iterations/4)):\n",
    "         for I in range (marker):\n",
    "             point=lattice_points[I]\n",
    "             a=int(point[0])\n",
    "             b=int(point[1])\n",
    "             c=int(point[2])\n",
    "             if ((a>1 and b>1 and c>1 and a<points-3 and b<points-3 and c<points-3)):\n",
    "                 V0_temp[a,b,c] = 1/6*(V0[a+2,b,c]+V0[a-2,b,c]+V0[a,b+2,c]+V0[a,b-2,c]+V0[a,b,c+2]+V0[a,b,c-2])\n",
    "                 V0dc_temp[a,b,c] = 1/6*(V0dc[a+2,b,c]+V0dc[a-2,b,c]+V0dc[a,b+2,c]+V0dc[a,b-2,c]+V0dc[a,b,c+2]+V0dc[a,b,c-2])\n",
    "             \n",
    "                    \n",
    "                   \n",
    "                   \n",
    "       \n",
    "         CenterV[iterate] = V0[xmid,ymid,zmid]\n",
    "         V0=V0_temp\n",
    "         V0dc=V0dc_temp\n",
    "        \n",
    "    return V0,V0dc,CenterV,lattice_points,cords"
   ]
  },
  {
   "cell_type": "code",
   "execution_count": 92,
   "metadata": {},
   "outputs": [
    {
     "name": "stdout",
     "output_type": "stream",
     "text": [
      "time elapsed =  180.77594447135925 seconds\n"
     ]
    }
   ],
   "source": [
    "    ###Sample voltages to use in the simulation\n",
    "RF=np.array([0, 600, 0, 0])\n",
    "DC=np.array([600,0, 0, 0])\n",
    "####record the start time\n",
    "start=time.time()\n",
    "#Run the simulation\n",
    "A=FDM_BIv03(RF,DC)\n",
    "print(\"time elapsed = \",time.time()-start, \"seconds\")"
   ]
  },
  {
   "cell_type": "code",
   "execution_count": 93,
   "metadata": {},
   "outputs": [
    {
     "data": {
      "text/plain": [
       "[0, 100, 0, 350]"
      ]
     },
     "execution_count": 93,
     "metadata": {},
     "output_type": "execute_result"
    },
    {
     "data": {
      "image/png": "[encoded data removed]",
      "text/plain": [
       "<Figure size 432x288 with 1 Axes>"
      ]
     },
     "metadata": {
      "needs_background": "light"
     },
     "output_type": "display_data"
    }
   ],
   "source": [
    "plt.imshow(A[0][:,200,:])#, cmap=plt.cm.get_cmap('viridis', 2))\n",
    "\n",
    "plt.axis([0,100 , 0, 350])"
   ]
  },
  {
   "cell_type": "code",
   "execution_count": 94,
   "metadata": {},
   "outputs": [],
   "source": [
    "####***grid size in metres, size is number of lattice points. V is a NxNxN grid of potential values Feturns NxNxN grid of Efield magnitudes\n",
    "def Efield_solve(V,size,grid):\n",
    "    \n",
    "    Ex=np.zeros((size,size,size))\n",
    "    Ey=np.zeros((size,size,size))\n",
    "    Ez=np.zeros((size,size,size))\n",
    "    Ex,Ey,Ez = np.gradient(V,grid/size)\n",
    "    Emag=np.zeros((size,size,size))\n",
    "    for a in range(0,size):\n",
    "       for b in range(0,size):\n",
    "          \n",
    "          for c in range(0,size):\n",
    "              Emag[a,b,c] = math.sqrt(Ex[a,b,c]**2+Ey[a,b,c]**2+Ez[a,b,c]**2)\n",
    "    return Emag\n",
    "###return pseudopotential in eV. E_field must be NxNxN\n",
    "def Pseudo_solve(E_field,size,grid,omega,M,Q):\n",
    "    PseudoeV=np.zeros((size,size,size))\n",
    "    for a in range(0,size):\n",
    "       for b in range(0,size):\n",
    "          for c in range(0,size):\n",
    "              PseudoeV[a,b,c] = Q**2/(4*M*omega**2)*E_field[a,b,c]**2\n",
    "    return PseudoeV\n",
    "###tahes dc potential and pseudo potential to give effective potential energy\n",
    "def Eeff(PS,Vdc,Q,size):\n",
    "    PE=np.zeros((size,size,size),dtype=np.long)\n",
    "    for a in range(0,size):\n",
    "       for b in range(0,size):\n",
    "          for c in range(0,size):\n",
    "              PE[a,b,c]=Q*Vdc[a,b,c]+PS[a,b,c]\n",
    "    return PE\n",
    "def Force_field(PE,grid,steps):\n",
    "    return np.gradient(PE,grid/steps)     "
   ]
  },
  {
   "cell_type": "code",
   "execution_count": 95,
   "metadata": {},
   "outputs": [
    {
     "name": "stdout",
     "output_type": "stream",
     "text": [
      "time elapsed =  105.1558735370636 seconds\n"
     ]
    }
   ],
   "source": [
    "start=time.time()\n",
    "B=Efield_solve(A[0], 351, 0.014)\n",
    "print(\"time elapsed = \",time.time()-start, \"seconds\")"
   ]
  },
  {
   "cell_type": "code",
   "execution_count": 96,
   "metadata": {},
   "outputs": [
    {
     "name": "stdout",
     "output_type": "stream",
     "text": [
      "time elapsed =  64.81376504898071\n"
     ]
    }
   ],
   "source": [
    "####record the start time\n",
    "start=time.time()\n",
    "C = Pseudo_solve(B, 351, 0.014, 13085000*2*np.pi, 2.8*10**-25, 1)* 1.6*10**-19\n",
    "print(\"time elapsed = \",time.time()-start)\n"
   ]
  },
  {
   "cell_type": "code",
   "execution_count": 101,
   "metadata": {
    "scrolled": true
   },
   "outputs": [
    {
     "data": {
      "image/png": "[encoded data removed]",
      "text/plain": [
       "<Figure size 432x288 with 2 Axes>"
      ]
     },
     "metadata": {
      "needs_background": "light"
     },
     "output_type": "display_data"
    }
   ],
   "source": [
    "R= plt.imshow(C[:,200,:], cmap=plt.cm.get_cmap('viridis', 10)) #viridis\n",
    "plt.colorbar()\n",
    "plt.clim(0,1)\n",
    "plt.axis([1,100 , 150, 250])\n",
    "plt.show()\n"
   ]
  },
  {
   "cell_type": "code",
   "execution_count": 65,
   "metadata": {},
   "outputs": [
    {
     "data": {
      "image/png": "[encoded data removed]",
      "text/plain": [
       "<Figure size 432x288 with 2 Axes>"
      ]
     },
     "metadata": {
      "needs_background": "light"
     },
     "output_type": "display_data"
    }
   ],
   "source": [
    "R= plt.imshow(A[0][:,175,:], cmap=plt.cm.get_cmap('RdBu', 10))\n",
    "plt.colorbar()\n",
    "#plt.clim(0,.1e-11)\n",
    "plt.axis([20,120 , 125, 225])\n",
    "plt.show()"
   ]
  },
  {
   "cell_type": "code",
   "execution_count": 99,
   "metadata": {},
   "outputs": [
    {
     "data": {
      "text/plain": [
       "[50, 80, 0, 0.2]"
      ]
     },
     "execution_count": 99,
     "metadata": {},
     "output_type": "execute_result"
    },
    {
     "data": {
      "image/png": "[encoded data removed]",
      "text/plain": [
       "<Figure size 432x288 with 1 Axes>"
      ]
     },
     "metadata": {
      "needs_background": "light"
     },
     "output_type": "display_data"
    }
   ],
   "source": [
    "plt.plot(C[200, 200, :])\n",
    "plt.axis([50, 80, 0, .2]) #300 points 6000 iterations gave 2.35 eV :(\n",
    "#350 points, 600 iterations gives 3.30 eV, 1000 iterations gives 3.08 eV, 2000 iterations give 2.59 eV, 3000 gives 2.41 eV, 4000 gives 2.34"
   ]
  },
  {
   "cell_type": "code",
   "execution_count": null,
   "metadata": {},
   "outputs": [],
   "source": []
  },
  {
   "cell_type": "code",
   "execution_count": null,
   "metadata": {},
   "outputs": [],
   "source": []
  }
 ],
 "metadata": {
  "kernelspec": {
   "display_name": "Python 3",
   "language": "python",
   "name": "python3"
  },
  "language_info": {
   "codemirror_mode": {
    "name": "ipython",
    "version": 3
   },
   "file_extension": ".py",
   "mimetype": "text/x-python",
   "name": "python",
   "nbconvert_exporter": "python",
   "pygments_lexer": "ipython3",
   "version": "3.7.6"
  }
 },
 "nbformat": 4,
 "nbformat_minor": 4
}
